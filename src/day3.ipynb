{
 "cells": [
  {
   "cell_type": "markdown",
   "metadata": {},
   "source": [
    "# Import data"
   ]
  },
  {
   "cell_type": "code",
   "execution_count": 1,
   "metadata": {},
   "outputs": [],
   "source": [
    "from utils.file_handler import FileHandler\n",
    "\n",
    "txt_path = \"./../data/day3.txt\"\n",
    "lines = FileHandler.txt_to_lst(txt_path)"
   ]
  },
  {
   "cell_type": "markdown",
   "metadata": {},
   "source": [
    "# Day 3 Solution 1"
   ]
  },
  {
   "cell_type": "code",
   "execution_count": 2,
   "metadata": {},
   "outputs": [],
   "source": [
    "import re\n",
    "from utils.utils import Utils\n",
    "from typing import List"
   ]
  },
  {
   "cell_type": "code",
   "execution_count": 128,
   "metadata": {},
   "outputs": [
    {
     "data": {
      "text/plain": [
       "382116"
      ]
     },
     "execution_count": 128,
     "metadata": {},
     "output_type": "execute_result"
    }
   ],
   "source": [
    "def strlst2intlst(strlst: List[str]):\n",
    "    return [int(s) for s in strlst]\n",
    "\n",
    "def change_and_check_index(line, index, delta=1):\n",
    "    if not re.findall(r'\\d',line[index + delta]):\n",
    "        return index\n",
    "    else:\n",
    "        return change_and_check_index(line, index + delta, delta)\n",
    "\n",
    "def extract_digits(line, overlap_digit_locations):\n",
    "    digits = []\n",
    "    for i in overlap_digit_locations:\n",
    "        digits.append(line[change_and_check_index(line, i, delta=-1):\n",
    "                           change_and_check_index(line, i, delta=1)+1])\n",
    "    return strlst2intlst(digits)\n",
    "\n",
    "def deduplicate(digit_lst):\n",
    "    if digit_lst == []:\n",
    "                return []\n",
    "\n",
    "    filtered_lst = []\n",
    "    for i in range(len(digit_lst)):\n",
    "        if i + 1 >= len(digit_lst):\n",
    "            filtered_lst.append(digit_lst[i])\n",
    "            return filtered_lst\n",
    "        elif digit_lst[i] + 1 == digit_lst[i + 1]:\n",
    "            continue\n",
    "        filtered_lst.append(digit_lst[i])\n",
    "\n",
    "def test_overlap(symbols, digits):\n",
    "    overlapping_digit_locations = []\n",
    "    for d_i in range(len(digits)):\n",
    "        for s_i in range(len(symbols)):\n",
    "            if s_i+2 >= len(symbols) or \\\n",
    "               d_i >= len(digits):\n",
    "                continue\n",
    "            elif symbols[s_i] + 1 == digits[d_i] or \\\n",
    "                 symbols[s_i+1] == digits[d_i] or \\\n",
    "                 symbols[s_i+2] - 1 == digits[d_i]:\n",
    "                overlapping_digit_locations.append(digits[d_i])\n",
    "    return deduplicate(overlapping_digit_locations)\n",
    "\n",
    "def get_symbol_locations(string):\n",
    "    symbol_locations = [m.start() for m in re.finditer(r'[^.\\d\\w\\n]', string)]\n",
    "    return symbol_locations\n",
    "\n",
    "def get_digit_locations(string):\n",
    "    symbol_locations = [m.start() for m in re.finditer(r'\\d', string)]\n",
    "    return symbol_locations\n",
    "\n",
    "def find_overlapping_digit_symbol_locations_within_line(line1):\n",
    "    digit_locations1 = get_digit_locations(line1)\n",
    "    symbol_locations1 = get_symbol_locations(line1)\n",
    "    return test_overlap(symbol_locations1, digit_locations1)\n",
    "\n",
    "def find_overlapping_digit_symbol_locations_2_lines(line1, line2):\n",
    "    digit_locations1 = get_digit_locations(line1)\n",
    "    symbol_locations2 = get_symbol_locations(line2)\n",
    "    return test_overlap(symbol_locations2, digit_locations1)\n",
    "\n",
    "def traverse_lines(lines: List[str]):\n",
    "    last_line_index = len(lines)\n",
    "    \n",
    "    sub_sum_lst = []\n",
    "    \n",
    "    for i in range(last_line_index):\n",
    "        if i == 0:\n",
    "            r1 = find_overlapping_digit_symbol_locations_within_line(lines[i])\n",
    "            r2 = find_overlapping_digit_symbol_locations_2_lines(lines[i], lines[i+1])\n",
    "            sub_sum_lst.append(sum(extract_digits(lines[i], r1)) + sum(extract_digits(lines[i], r2)))\n",
    "        elif i + 2 <= last_line_index:\n",
    "            r1 = find_overlapping_digit_symbol_locations_within_line(lines[i])\n",
    "            r2 = find_overlapping_digit_symbol_locations_2_lines(lines[i], lines[i-1])\n",
    "            r3 = find_overlapping_digit_symbol_locations_2_lines(lines[i], lines[i+1])\n",
    "            sub_sum_lst.append(sum(extract_digits(lines[i], r1)) +\n",
    "                               sum(extract_digits(lines[i], r2)) +\n",
    "                               sum(extract_digits(lines[i], r3)))\n",
    "        else:\n",
    "            r1 = find_overlapping_digit_symbol_locations_2_lines(lines[i], lines[i-1])\n",
    "            r2 = find_overlapping_digit_symbol_locations_within_line(lines[i])\n",
    "            sub_sum_lst.append(sum(extract_digits(lines[i], r1)) + sum(extract_digits(lines[i], r2)))\n",
    "    return sum(sub_sum_lst)\n",
    "\n",
    "traverse_lines(lines)"
   ]
  },
  {
   "cell_type": "code",
   "execution_count": 129,
   "metadata": {},
   "outputs": [
    {
     "name": "stdout",
     "output_type": "stream",
     "text": [
      "536202\n",
      "78272573\n"
     ]
    }
   ],
   "source": [
    "# After a while I started taking inspiration from\n",
    "# other people's solutions because I had other stuff to do and my code was horrendous\n",
    "\n",
    "\n",
    "from collections import defaultdict\n",
    "from math import prod\n",
    "from typing import Tuple, List, Dict\n",
    "\n",
    "\n",
    "def parse_input(filename: str) -> list:\n",
    "    with open(filename, \"r\") as input_file:\n",
    "        return input_file.read().split(\"\\n\")\n",
    "\n",
    "\n",
    "def complete_number(data: list, row: int, col: int) -> Tuple[str, set]:\n",
    "    num, coordinates = \"\", set()\n",
    "    while col < len(data[0]) and data[row][col].isdigit():\n",
    "        num += data[row][col]\n",
    "        coordinates.add((row, col))\n",
    "        col += 1\n",
    "    return num, coordinates\n",
    "\n",
    "\n",
    "def find_numbers(data: list) -> List[Tuple[int, Dict[Tuple[int, int], str]]]:\n",
    "    visited = set()\n",
    "    numbers = []\n",
    "    for i, row in enumerate(data):\n",
    "        for j, ele in enumerate(row):\n",
    "            if ele.isdigit() and (i, j) not in visited:\n",
    "                number, coordinates = complete_number(data, i, j)\n",
    "                visited |= coordinates\n",
    "                neighbours = find_neighbours(data, coordinates)\n",
    "                numbers.append((int(number), neighbours))\n",
    "    return numbers\n",
    "\n",
    "\n",
    "def find_neighbours(data: list, coordinates: set) -> Dict[Tuple[int, int], str]:\n",
    "    neighbours = {}\n",
    "    row_offset = [-1, -1, -1, 0, 0, 1, 1, 1]\n",
    "    col_offset = [-1, 0, 1, -1, 1, -1, 0, 1]\n",
    "    for row, col in coordinates:\n",
    "        for dr, dc in zip(row_offset, col_offset):\n",
    "            new_row, new_col = row + dr, col + dc\n",
    "            if (new_row, new_col) in coordinates:\n",
    "                continue\n",
    "            if (\n",
    "                0 <= new_row < len(data)\n",
    "                and 0 <= new_col < len(data[0])\n",
    "                and data[new_row][new_col] != BLANK\n",
    "            ):\n",
    "                neighbours[new_row, new_col] = data[new_row][new_col]\n",
    "    return neighbours\n",
    "\n",
    "\n",
    "def part_two(numbers: list) -> int:\n",
    "    gears = defaultdict(list)\n",
    "    [\n",
    "        gears[position].append(num)\n",
    "        for num, neighbours in numbers\n",
    "        for position, symbol in neighbours.items()\n",
    "        if symbol == GEAR\n",
    "    ]\n",
    "    return sum(prod(nums) for nums in gears.values() if len(nums) == 2)\n",
    "\n",
    "\n",
    "def main():\n",
    "    data = parse_input(FILENAME)\n",
    "    numbers = find_numbers(data)\n",
    "    print(sum(num for num, neighbors in numbers if neighbors))\n",
    "    print(part_two(numbers))\n",
    "\n",
    "\n",
    "if __name__ == \"__main__\":\n",
    "    BLANK = \".\"\n",
    "    GEAR = \"*\"\n",
    "    FILENAME = \"./../data/day3.txt\"\n",
    "    main()\n"
   ]
  },
  {
   "cell_type": "markdown",
   "metadata": {},
   "source": [
    "# Day 3 Solution 2"
   ]
  },
  {
   "cell_type": "code",
   "execution_count": null,
   "metadata": {},
   "outputs": [],
   "source": [
    "import re\n",
    "from utils.utils import Utils\n",
    "from typing import List"
   ]
  }
 ],
 "metadata": {
  "kernelspec": {
   "display_name": "pyenv-r1",
   "language": "python",
   "name": "python3"
  },
  "language_info": {
   "codemirror_mode": {
    "name": "ipython",
    "version": 3
   },
   "file_extension": ".py",
   "mimetype": "text/x-python",
   "name": "python",
   "nbconvert_exporter": "python",
   "pygments_lexer": "ipython3",
   "version": "3.9.0"
  }
 },
 "nbformat": 4,
 "nbformat_minor": 2
}
