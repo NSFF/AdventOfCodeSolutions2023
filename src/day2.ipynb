{
 "cells": [
  {
   "cell_type": "markdown",
   "metadata": {},
   "source": [
    "# Import data"
   ]
  },
  {
   "cell_type": "code",
   "execution_count": 7,
   "metadata": {},
   "outputs": [],
   "source": [
    "from utils.file_handler import FileHandler\n",
    "\n",
    "txt_path = \"./../data/day2.txt\"\n",
    "lines = FileHandler.txt_to_lst(txt_path)"
   ]
  },
  {
   "cell_type": "markdown",
   "metadata": {},
   "source": [
    "# Day 2 Solution 1"
   ]
  },
  {
   "cell_type": "code",
   "execution_count": 23,
   "metadata": {},
   "outputs": [],
   "source": [
    "import re\n",
    "from utils.utils import Utils\n",
    "from typing import List"
   ]
  },
  {
   "cell_type": "code",
   "execution_count": 61,
   "metadata": {},
   "outputs": [
    {
     "name": "stdout",
     "output_type": "stream",
     "text": [
      "[8, 3, 13] [12, 13, 14]\n",
      "4\n",
      "[4, 13, 2] [12, 13, 14]\n",
      "5\n",
      "[1, 8, 6] [12, 13, 14]\n",
      "6\n",
      "[8, 9, 11] [12, 13, 14]\n",
      "7\n",
      "[5, 3, 10] [12, 13, 14]\n",
      "11\n",
      "[9, 7, 5] [12, 13, 14]\n",
      "12\n",
      "[3, 10, 3] [12, 13, 14]\n",
      "13\n",
      "[9, 4, 13] [12, 13, 14]\n",
      "14\n",
      "[7, 7, 6] [12, 13, 14]\n",
      "17\n",
      "[4, 9, 9] [12, 13, 14]\n",
      "20\n",
      "[8, 7, 12] [12, 13, 14]\n",
      "21\n",
      "[7, 12, 11] [12, 13, 14]\n",
      "22\n",
      "[10, 8, 6] [12, 13, 14]\n",
      "23\n",
      "[12, 11, 6] [12, 13, 14]\n",
      "28\n",
      "[5, 2, 9] [12, 13, 14]\n",
      "29\n",
      "[1, 3, 3] [12, 13, 14]\n",
      "30\n",
      "[1, 3, 4] [12, 13, 14]\n",
      "31\n",
      "[10, 8, 14] [12, 13, 14]\n",
      "34\n",
      "[5, 9, 9] [12, 13, 14]\n",
      "35\n",
      "[10, 2, 1] [12, 13, 14]\n",
      "36\n",
      "[12, 7, 3] [12, 13, 14]\n",
      "38\n",
      "[3, 8, 12] [12, 13, 14]\n",
      "39\n",
      "[5, 7, 7] [12, 13, 14]\n",
      "40\n",
      "[2, 7, 6] [12, 13, 14]\n",
      "41\n",
      "[12, 2, 5] [12, 13, 14]\n",
      "43\n",
      "[10, 4, 4] [12, 13, 14]\n",
      "44\n",
      "[2, 8, 10] [12, 13, 14]\n",
      "47\n",
      "[12, 2, 14] [12, 13, 14]\n",
      "51\n",
      "[4, 2, 1] [12, 13, 14]\n",
      "53\n",
      "[12, 9, 11] [12, 13, 14]\n",
      "55\n",
      "[8, 10, 5] [12, 13, 14]\n",
      "56\n",
      "[7, 3, 1] [12, 13, 14]\n",
      "57\n",
      "[2, 4, 9] [12, 13, 14]\n",
      "58\n",
      "[8, 5, 1] [12, 13, 14]\n",
      "59\n",
      "[4, 10, 8] [12, 13, 14]\n",
      "60\n",
      "[9, 7, 7] [12, 13, 14]\n",
      "61\n",
      "[12, 13, 3] [12, 13, 14]\n",
      "63\n",
      "[9, 10, 2] [12, 13, 14]\n",
      "64\n",
      "[7, 6, 1] [12, 13, 14]\n",
      "65\n",
      "[3, 7, 4] [12, 13, 14]\n",
      "66\n",
      "[11, 3, 6] [12, 13, 14]\n",
      "68\n",
      "[2, 1, 2] [12, 13, 14]\n",
      "70\n",
      "[11, 8, 1] [12, 13, 14]\n",
      "74\n",
      "[5, 11, 11] [12, 13, 14]\n",
      "76\n",
      "[1, 8, 11] [12, 13, 14]\n",
      "77\n",
      "[3, 12, 1] [12, 13, 14]\n",
      "78\n",
      "[7, 7, 7] [12, 13, 14]\n",
      "80\n",
      "[7, 7, 14] [12, 13, 14]\n",
      "82\n",
      "[2, 6, 4] [12, 13, 14]\n",
      "87\n",
      "[10, 7, 8] [12, 13, 14]\n",
      "88\n",
      "[9, 2, 5] [12, 13, 14]\n",
      "95\n",
      "[1, 13, 9] [12, 13, 14]\n",
      "97\n",
      "[9, 13, 10] [12, 13, 14]\n",
      "98\n",
      "[2, 10, 10] [12, 13, 14]\n",
      "99\n",
      "[8, 10, 10] [12, 13, 14]\n",
      "100\n"
     ]
    },
    {
     "data": {
      "text/plain": [
       "2727"
      ]
     },
     "execution_count": 61,
     "metadata": {},
     "output_type": "execute_result"
    }
   ],
   "source": [
    "rgb_max = [12, 13, 14]\n",
    "\n",
    "def extract_blue(line: List[str]):\n",
    "    return re.findall(r\"(\\d+)\\sblue\", line)\n",
    "\n",
    "def extract_red(line: List[str]):\n",
    "    return re.findall(r\"(\\d+)\\sred\", line)\n",
    "\n",
    "def extract_green(line: List[str]):\n",
    "    return re.findall(r\"(\\d+)\\sgreen\", line)\n",
    "\n",
    "def extract_game_id(line: str) -> int:\n",
    "    return int(re.findall(r\"Game\\s(\\d+)\", line)[0])\n",
    "\n",
    "def filter_rgb(rgb_max: List[int], lines: List[str]):\n",
    "    game_id_lst = []\n",
    "\n",
    "    for line in lines:\n",
    "        # extract the max values for each color\n",
    "        game_rgb_max = [max(Utils.convert_to_int(extract_red(line))),\n",
    "                        max(Utils.convert_to_int(extract_green(line))),\n",
    "                        max(Utils.convert_to_int(extract_blue(line)))]\n",
    "        \n",
    "        # compare the 2 lists of max values\n",
    "        result = [x > y for x, y in zip(game_rgb_max, rgb_max)]\n",
    "        if any(result):\n",
    "            continue\n",
    "        \n",
    "        game_id_lst.append(extract_game_id(line))\n",
    "    return sum(game_id_lst)\n",
    "\n",
    "filter_rgb(rgb_max, lines)"
   ]
  },
  {
   "cell_type": "markdown",
   "metadata": {},
   "source": [
    "# Day 2 Solution 2"
   ]
  },
  {
   "cell_type": "code",
   "execution_count": 62,
   "metadata": {},
   "outputs": [],
   "source": [
    "import re\n",
    "from utils.utils import Utils\n",
    "from typing import List\n",
    "import numpy as np"
   ]
  },
  {
   "cell_type": "code",
   "execution_count": 63,
   "metadata": {},
   "outputs": [
    {
     "data": {
      "text/plain": [
       "56580"
      ]
     },
     "execution_count": 63,
     "metadata": {},
     "output_type": "execute_result"
    }
   ],
   "source": [
    "rgb_max = [12, 13, 14]\n",
    "\n",
    "def extract_blue(line: List[str]):\n",
    "    return re.findall(r\"(\\d+)\\sblue\", line)\n",
    "\n",
    "def extract_red(line: List[str]):\n",
    "    return re.findall(r\"(\\d+)\\sred\", line)\n",
    "\n",
    "def extract_green(line: List[str]):\n",
    "    return re.findall(r\"(\\d+)\\sgreen\", line)\n",
    "\n",
    "def extract_game_id(line: str) -> int:\n",
    "    return int(re.findall(r\"Game\\s(\\d+)\", line)[0])\n",
    "\n",
    "def filter_rgb(rgb_max: List[int], lines: List[str]):\n",
    "    multiply_lst = []\n",
    "\n",
    "    for line in lines:\n",
    "        # extract the max values for each color\n",
    "        game_rgb_max = [max(Utils.convert_to_int(extract_red(line))),\n",
    "                        max(Utils.convert_to_int(extract_green(line))),\n",
    "                        max(Utils.convert_to_int(extract_blue(line)))]\n",
    "        \n",
    "        multiply_lst.append(np.prod(game_rgb_max))\n",
    "    return sum(multiply_lst)\n",
    "\n",
    "filter_rgb(rgb_max, lines)"
   ]
  }
 ],
 "metadata": {
  "kernelspec": {
   "display_name": "pyenv-r1",
   "language": "python",
   "name": "python3"
  },
  "language_info": {
   "codemirror_mode": {
    "name": "ipython",
    "version": 3
   },
   "file_extension": ".py",
   "mimetype": "text/x-python",
   "name": "python",
   "nbconvert_exporter": "python",
   "pygments_lexer": "ipython3",
   "version": "3.9.0"
  }
 },
 "nbformat": 4,
 "nbformat_minor": 2
}
